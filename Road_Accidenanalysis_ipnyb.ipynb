{
  "nbformat": 4,
  "nbformat_minor": 0,
  "metadata": {
    "colab": {
      "provenance": [],
      "collapsed_sections": [],
      "mount_file_id": "16xL2NBajtvn-ZCZhv0z59PXAkcLE8fEE",
      "authorship_tag": "ABX9TyMQ1KnX1rSvPOUV+x+xKrE8",
      "include_colab_link": true
    },
    "kernelspec": {
      "name": "python3",
      "display_name": "Python 3"
    },
    "language_info": {
      "name": "python"
    }
  },
  "cells": [
    {
      "cell_type": "markdown",
      "metadata": {
        "id": "view-in-github",
        "colab_type": "text"
      },
      "source": [
        "<a href=\"https://colab.research.google.com/github/janetjayr/Data-analysis-/blob/main/Road_Accidenanalysis_ipnyb.ipynb\" target=\"_parent\"><img src=\"https://colab.research.google.com/assets/colab-badge.svg\" alt=\"Open In Colab\"/></a>"
      ]
    },
    {
      "cell_type": "code",
      "source": [],
      "metadata": {
        "id": "GWjDvf44cJFM"
      },
      "execution_count": null,
      "outputs": []
    },
    {
      "cell_type": "markdown",
      "source": [
        "# Analysis of Road Accidents in the UK between 2009-2017\n",
        "The data used was on road accidents that have been recorded from 2009-2017in   U.K. This data was from data.gov.uk and it consists of 23368 rows and 12 columns.This data is used to analyze different causes of accidents  and identify the ones that we can control and hence try and prevent more accidents."
      ],
      "metadata": {
        "id": "U1YZ2Id5AhLV"
      }
    },
    {
      "cell_type": "markdown",
      "source": [],
      "metadata": {
        "id": "NR6T0HQ82XyN"
      }
    },
    {
      "cell_type": "markdown",
      "source": [
        "### Analysis Questions\n",
        "#### I have formulated problem questions for a better guide. Each question will be broken down further to smaller questions.\n",
        "1.When do accidents usualy happen-time, day, month and year.\n",
        "\n",
        "2.Under what conditions do most accidents occur.  \n",
        "3.What is the characteristics of the Casualties."
      ],
      "metadata": {
        "id": "Eu8OYKV-G5Si"
      }
    },
    {
      "cell_type": "markdown",
      "source": [
        "Imported libraries"
      ],
      "metadata": {
        "id": "Zeq_xM313FJJ"
      }
    },
    {
      "cell_type": "code",
      "execution_count": null,
      "metadata": {
        "id": "TxqPuM01zrDV"
      },
      "outputs": [],
      "source": [
        "import pandas as pd\n",
        "import numpy as np\n",
        "\n",
        "import math\n",
        "import seaborn as sns\n",
        "import matplotlib.pyplot as plt\n",
        "import calendar\n",
        "from datetime import datetime\n",
        "from matplotlib.colors import ListedColormap"
      ]
    },
    {
      "cell_type": "markdown",
      "source": [
        "### <font color='blue'> 1.**Load the road accident data from csv file**</font>"
      ],
      "metadata": {
        "id": "OX37eckP3LPE"
      }
    },
    {
      "cell_type": "code",
      "source": [
        "path=\"/content/drive/MyDrive/9yrs.csv\""
      ],
      "metadata": {
        "id": "lIVYj2I-3Npp"
      },
      "execution_count": null,
      "outputs": []
    },
    {
      "cell_type": "markdown",
      "source": [
        "The data below is data on road accidents that have occured from 2009 to 2017. It consists of many variables describing the accidents cause and casualties characteristics. Some of the variables are gender,age, casualty severity, road surface, lightining conditions among others."
      ],
      "metadata": {
        "id": "AaEUxX2430q-"
      }
    },
    {
      "cell_type": "code",
      "source": [
        "data=pd.read_csv(path,encoding='cp1252')\n",
        "data.head()"
      ],
      "metadata": {
        "id": "PAb1Bo8Z2ISR",
        "colab": {
          "base_uri": "https://localhost:8080/",
          "height": 354
        },
        "outputId": "06e29a21-ec71-4375-fc25-8b2e7b508242"
      },
      "execution_count": null,
      "outputs": [
        {
          "output_type": "execute_result",
          "data": {
            "text/plain": [
              "   Number of Vehicles Accident Date accident_time 1st Road Class Road Surface  \\\n",
              "0                   1      1/1/2009   12:55:00 AM   Unclassified          Dry   \n",
              "1                   1      1/2/2009   11:35:00 PM   Unclassified          Dry   \n",
              "2                   1      1/2/2009    4:45:00 PM   Unclassified          Dry   \n",
              "3                   1      1/2/2009    5:23:00 PM              A          Dry   \n",
              "4                   2      1/2/2009    1:50:00 PM   Unclassified          Dry   \n",
              "\n",
              "                       Lighting Conditions       Weather Conditions  \\\n",
              "0  Darkness: street lights present and lit  Fine without high winds   \n",
              "1  Darkness: street lights present and lit  Fine without high winds   \n",
              "2  Darkness: street lights present and lit  Fine without high winds   \n",
              "3  Darkness: street lights present and lit  Fine without high winds   \n",
              "4          Daylight: street lights present  Fine without high winds   \n",
              "\n",
              "  Casualty Class Casualty Severity Sex of Casualty  Age of Casualty  \\\n",
              "0     Pedestrian            Slight            Male               44   \n",
              "1         Driver           Serious          Female               23   \n",
              "2     Pedestrian            Slight          Female               12   \n",
              "3     Pedestrian            Slight            Male               15   \n",
              "4         Driver            Slight          Female               34   \n",
              "\n",
              "  Type of Vehicle  \n",
              "0             Car  \n",
              "1             Car  \n",
              "2             Car  \n",
              "3             Car  \n",
              "4             Car  "
            ],
            "text/html": [
              "\n",
              "  <div id=\"df-b17bd0b4-cdbf-4e29-ba2a-4209184a771f\">\n",
              "    <div class=\"colab-df-container\">\n",
              "      <div>\n",
              "<style scoped>\n",
              "    .dataframe tbody tr th:only-of-type {\n",
              "        vertical-align: middle;\n",
              "    }\n",
              "\n",
              "    .dataframe tbody tr th {\n",
              "        vertical-align: top;\n",
              "    }\n",
              "\n",
              "    .dataframe thead th {\n",
              "        text-align: right;\n",
              "    }\n",
              "</style>\n",
              "<table border=\"1\" class=\"dataframe\">\n",
              "  <thead>\n",
              "    <tr style=\"text-align: right;\">\n",
              "      <th></th>\n",
              "      <th>Number of Vehicles</th>\n",
              "      <th>Accident Date</th>\n",
              "      <th>accident_time</th>\n",
              "      <th>1st Road Class</th>\n",
              "      <th>Road Surface</th>\n",
              "      <th>Lighting Conditions</th>\n",
              "      <th>Weather Conditions</th>\n",
              "      <th>Casualty Class</th>\n",
              "      <th>Casualty Severity</th>\n",
              "      <th>Sex of Casualty</th>\n",
              "      <th>Age of Casualty</th>\n",
              "      <th>Type of Vehicle</th>\n",
              "    </tr>\n",
              "  </thead>\n",
              "  <tbody>\n",
              "    <tr>\n",
              "      <th>0</th>\n",
              "      <td>1</td>\n",
              "      <td>1/1/2009</td>\n",
              "      <td>12:55:00 AM</td>\n",
              "      <td>Unclassified</td>\n",
              "      <td>Dry</td>\n",
              "      <td>Darkness: street lights present and lit</td>\n",
              "      <td>Fine without high winds</td>\n",
              "      <td>Pedestrian</td>\n",
              "      <td>Slight</td>\n",
              "      <td>Male</td>\n",
              "      <td>44</td>\n",
              "      <td>Car</td>\n",
              "    </tr>\n",
              "    <tr>\n",
              "      <th>1</th>\n",
              "      <td>1</td>\n",
              "      <td>1/2/2009</td>\n",
              "      <td>11:35:00 PM</td>\n",
              "      <td>Unclassified</td>\n",
              "      <td>Dry</td>\n",
              "      <td>Darkness: street lights present and lit</td>\n",
              "      <td>Fine without high winds</td>\n",
              "      <td>Driver</td>\n",
              "      <td>Serious</td>\n",
              "      <td>Female</td>\n",
              "      <td>23</td>\n",
              "      <td>Car</td>\n",
              "    </tr>\n",
              "    <tr>\n",
              "      <th>2</th>\n",
              "      <td>1</td>\n",
              "      <td>1/2/2009</td>\n",
              "      <td>4:45:00 PM</td>\n",
              "      <td>Unclassified</td>\n",
              "      <td>Dry</td>\n",
              "      <td>Darkness: street lights present and lit</td>\n",
              "      <td>Fine without high winds</td>\n",
              "      <td>Pedestrian</td>\n",
              "      <td>Slight</td>\n",
              "      <td>Female</td>\n",
              "      <td>12</td>\n",
              "      <td>Car</td>\n",
              "    </tr>\n",
              "    <tr>\n",
              "      <th>3</th>\n",
              "      <td>1</td>\n",
              "      <td>1/2/2009</td>\n",
              "      <td>5:23:00 PM</td>\n",
              "      <td>A</td>\n",
              "      <td>Dry</td>\n",
              "      <td>Darkness: street lights present and lit</td>\n",
              "      <td>Fine without high winds</td>\n",
              "      <td>Pedestrian</td>\n",
              "      <td>Slight</td>\n",
              "      <td>Male</td>\n",
              "      <td>15</td>\n",
              "      <td>Car</td>\n",
              "    </tr>\n",
              "    <tr>\n",
              "      <th>4</th>\n",
              "      <td>2</td>\n",
              "      <td>1/2/2009</td>\n",
              "      <td>1:50:00 PM</td>\n",
              "      <td>Unclassified</td>\n",
              "      <td>Dry</td>\n",
              "      <td>Daylight: street lights present</td>\n",
              "      <td>Fine without high winds</td>\n",
              "      <td>Driver</td>\n",
              "      <td>Slight</td>\n",
              "      <td>Female</td>\n",
              "      <td>34</td>\n",
              "      <td>Car</td>\n",
              "    </tr>\n",
              "  </tbody>\n",
              "</table>\n",
              "</div>\n",
              "      <button class=\"colab-df-convert\" onclick=\"convertToInteractive('df-b17bd0b4-cdbf-4e29-ba2a-4209184a771f')\"\n",
              "              title=\"Convert this dataframe to an interactive table.\"\n",
              "              style=\"display:none;\">\n",
              "        \n",
              "  <svg xmlns=\"http://www.w3.org/2000/svg\" height=\"24px\"viewBox=\"0 0 24 24\"\n",
              "       width=\"24px\">\n",
              "    <path d=\"M0 0h24v24H0V0z\" fill=\"none\"/>\n",
              "    <path d=\"M18.56 5.44l.94 2.06.94-2.06 2.06-.94-2.06-.94-.94-2.06-.94 2.06-2.06.94zm-11 1L8.5 8.5l.94-2.06 2.06-.94-2.06-.94L8.5 2.5l-.94 2.06-2.06.94zm10 10l.94 2.06.94-2.06 2.06-.94-2.06-.94-.94-2.06-.94 2.06-2.06.94z\"/><path d=\"M17.41 7.96l-1.37-1.37c-.4-.4-.92-.59-1.43-.59-.52 0-1.04.2-1.43.59L10.3 9.45l-7.72 7.72c-.78.78-.78 2.05 0 2.83L4 21.41c.39.39.9.59 1.41.59.51 0 1.02-.2 1.41-.59l7.78-7.78 2.81-2.81c.8-.78.8-2.07 0-2.86zM5.41 20L4 18.59l7.72-7.72 1.47 1.35L5.41 20z\"/>\n",
              "  </svg>\n",
              "      </button>\n",
              "      \n",
              "  <style>\n",
              "    .colab-df-container {\n",
              "      display:flex;\n",
              "      flex-wrap:wrap;\n",
              "      gap: 12px;\n",
              "    }\n",
              "\n",
              "    .colab-df-convert {\n",
              "      background-color: #E8F0FE;\n",
              "      border: none;\n",
              "      border-radius: 50%;\n",
              "      cursor: pointer;\n",
              "      display: none;\n",
              "      fill: #1967D2;\n",
              "      height: 32px;\n",
              "      padding: 0 0 0 0;\n",
              "      width: 32px;\n",
              "    }\n",
              "\n",
              "    .colab-df-convert:hover {\n",
              "      background-color: #E2EBFA;\n",
              "      box-shadow: 0px 1px 2px rgba(60, 64, 67, 0.3), 0px 1px 3px 1px rgba(60, 64, 67, 0.15);\n",
              "      fill: #174EA6;\n",
              "    }\n",
              "\n",
              "    [theme=dark] .colab-df-convert {\n",
              "      background-color: #3B4455;\n",
              "      fill: #D2E3FC;\n",
              "    }\n",
              "\n",
              "    [theme=dark] .colab-df-convert:hover {\n",
              "      background-color: #434B5C;\n",
              "      box-shadow: 0px 1px 3px 1px rgba(0, 0, 0, 0.15);\n",
              "      filter: drop-shadow(0px 1px 2px rgba(0, 0, 0, 0.3));\n",
              "      fill: #FFFFFF;\n",
              "    }\n",
              "  </style>\n",
              "\n",
              "      <script>\n",
              "        const buttonEl =\n",
              "          document.querySelector('#df-b17bd0b4-cdbf-4e29-ba2a-4209184a771f button.colab-df-convert');\n",
              "        buttonEl.style.display =\n",
              "          google.colab.kernel.accessAllowed ? 'block' : 'none';\n",
              "\n",
              "        async function convertToInteractive(key) {\n",
              "          const element = document.querySelector('#df-b17bd0b4-cdbf-4e29-ba2a-4209184a771f');\n",
              "          const dataTable =\n",
              "            await google.colab.kernel.invokeFunction('convertToInteractive',\n",
              "                                                     [key], {});\n",
              "          if (!dataTable) return;\n",
              "\n",
              "          const docLinkHtml = 'Like what you see? Visit the ' +\n",
              "            '<a target=\"_blank\" href=https://colab.research.google.com/notebooks/data_table.ipynb>data table notebook</a>'\n",
              "            + ' to learn more about interactive tables.';\n",
              "          element.innerHTML = '';\n",
              "          dataTable['output_type'] = 'display_data';\n",
              "          await google.colab.output.renderOutput(dataTable, element);\n",
              "          const docLink = document.createElement('div');\n",
              "          docLink.innerHTML = docLinkHtml;\n",
              "          element.appendChild(docLink);\n",
              "        }\n",
              "      </script>\n",
              "    </div>\n",
              "  </div>\n",
              "  "
            ]
          },
          "metadata": {},
          "execution_count": 16
        }
      ]
    },
    {
      "cell_type": "markdown",
      "source": [
        "### <font color='blue'> **2.Clean Data**</font> .\n",
        "\n",
        "I initial  combined data from different years(2009-2017) using pivot tables and then cleaned the data in excel where I dropped some columns like longitude and latitude as they were irrevelant to my anlysis since it was UK data. \n",
        "Here I checked for Nan values and found that only two rows had them and dropped the two Nan values. I renamed some columns for the purpose of simplicity and avoiding errors while coding.\n",
        "I further dropped three coulmns as they would not be significant to my analysis, for example in the type of vehicle column the vehicles were not well specified according to brand but rather genralized as car.\n",
        "\n"
      ],
      "metadata": {
        "id": "bEEP8T4n5Xna"
      }
    },
    {
      "cell_type": "code",
      "source": [
        "nandf=data[data.isna().any(axis=1)]\n",
        "data=data.dropna(how='all')\n",
        "data.rename(columns={'Age of Casualty':'Age','Sex of Casualty':'Gender'},inplace=True)\n",
        "data=data.drop(columns=['Number of Vehicles','Type of Vehicle','1st Road Class'])\n",
        "data.head()"
      ],
      "metadata": {
        "id": "4gq7KFqa2IXO",
        "colab": {
          "base_uri": "https://localhost:8080/",
          "height": 206
        },
        "outputId": "73ab938d-a037-4418-d839-6e7a8ed2b4d3"
      },
      "execution_count": null,
      "outputs": [
        {
          "output_type": "execute_result",
          "data": {
            "text/plain": [
              "  Accident Date accident_time Road Surface  \\\n",
              "0      1/1/2009   12:55:00 AM          Dry   \n",
              "1      1/2/2009   11:35:00 PM          Dry   \n",
              "2      1/2/2009    4:45:00 PM          Dry   \n",
              "3      1/2/2009    5:23:00 PM          Dry   \n",
              "4      1/2/2009    1:50:00 PM          Dry   \n",
              "\n",
              "                       Lighting Conditions       Weather Conditions  \\\n",
              "0  Darkness: street lights present and lit  Fine without high winds   \n",
              "1  Darkness: street lights present and lit  Fine without high winds   \n",
              "2  Darkness: street lights present and lit  Fine without high winds   \n",
              "3  Darkness: street lights present and lit  Fine without high winds   \n",
              "4          Daylight: street lights present  Fine without high winds   \n",
              "\n",
              "  Casualty Class Casualty Severity  Gender  Age  \n",
              "0     Pedestrian            Slight    Male   44  \n",
              "1         Driver           Serious  Female   23  \n",
              "2     Pedestrian            Slight  Female   12  \n",
              "3     Pedestrian            Slight    Male   15  \n",
              "4         Driver            Slight  Female   34  "
            ],
            "text/html": [
              "\n",
              "  <div id=\"df-4e5ad4bf-fb8f-40d7-93cf-6af4a1da7cfa\">\n",
              "    <div class=\"colab-df-container\">\n",
              "      <div>\n",
              "<style scoped>\n",
              "    .dataframe tbody tr th:only-of-type {\n",
              "        vertical-align: middle;\n",
              "    }\n",
              "\n",
              "    .dataframe tbody tr th {\n",
              "        vertical-align: top;\n",
              "    }\n",
              "\n",
              "    .dataframe thead th {\n",
              "        text-align: right;\n",
              "    }\n",
              "</style>\n",
              "<table border=\"1\" class=\"dataframe\">\n",
              "  <thead>\n",
              "    <tr style=\"text-align: right;\">\n",
              "      <th></th>\n",
              "      <th>Accident Date</th>\n",
              "      <th>accident_time</th>\n",
              "      <th>Road Surface</th>\n",
              "      <th>Lighting Conditions</th>\n",
              "      <th>Weather Conditions</th>\n",
              "      <th>Casualty Class</th>\n",
              "      <th>Casualty Severity</th>\n",
              "      <th>Gender</th>\n",
              "      <th>Age</th>\n",
              "    </tr>\n",
              "  </thead>\n",
              "  <tbody>\n",
              "    <tr>\n",
              "      <th>0</th>\n",
              "      <td>1/1/2009</td>\n",
              "      <td>12:55:00 AM</td>\n",
              "      <td>Dry</td>\n",
              "      <td>Darkness: street lights present and lit</td>\n",
              "      <td>Fine without high winds</td>\n",
              "      <td>Pedestrian</td>\n",
              "      <td>Slight</td>\n",
              "      <td>Male</td>\n",
              "      <td>44</td>\n",
              "    </tr>\n",
              "    <tr>\n",
              "      <th>1</th>\n",
              "      <td>1/2/2009</td>\n",
              "      <td>11:35:00 PM</td>\n",
              "      <td>Dry</td>\n",
              "      <td>Darkness: street lights present and lit</td>\n",
              "      <td>Fine without high winds</td>\n",
              "      <td>Driver</td>\n",
              "      <td>Serious</td>\n",
              "      <td>Female</td>\n",
              "      <td>23</td>\n",
              "    </tr>\n",
              "    <tr>\n",
              "      <th>2</th>\n",
              "      <td>1/2/2009</td>\n",
              "      <td>4:45:00 PM</td>\n",
              "      <td>Dry</td>\n",
              "      <td>Darkness: street lights present and lit</td>\n",
              "      <td>Fine without high winds</td>\n",
              "      <td>Pedestrian</td>\n",
              "      <td>Slight</td>\n",
              "      <td>Female</td>\n",
              "      <td>12</td>\n",
              "    </tr>\n",
              "    <tr>\n",
              "      <th>3</th>\n",
              "      <td>1/2/2009</td>\n",
              "      <td>5:23:00 PM</td>\n",
              "      <td>Dry</td>\n",
              "      <td>Darkness: street lights present and lit</td>\n",
              "      <td>Fine without high winds</td>\n",
              "      <td>Pedestrian</td>\n",
              "      <td>Slight</td>\n",
              "      <td>Male</td>\n",
              "      <td>15</td>\n",
              "    </tr>\n",
              "    <tr>\n",
              "      <th>4</th>\n",
              "      <td>1/2/2009</td>\n",
              "      <td>1:50:00 PM</td>\n",
              "      <td>Dry</td>\n",
              "      <td>Daylight: street lights present</td>\n",
              "      <td>Fine without high winds</td>\n",
              "      <td>Driver</td>\n",
              "      <td>Slight</td>\n",
              "      <td>Female</td>\n",
              "      <td>34</td>\n",
              "    </tr>\n",
              "  </tbody>\n",
              "</table>\n",
              "</div>\n",
              "      <button class=\"colab-df-convert\" onclick=\"convertToInteractive('df-4e5ad4bf-fb8f-40d7-93cf-6af4a1da7cfa')\"\n",
              "              title=\"Convert this dataframe to an interactive table.\"\n",
              "              style=\"display:none;\">\n",
              "        \n",
              "  <svg xmlns=\"http://www.w3.org/2000/svg\" height=\"24px\"viewBox=\"0 0 24 24\"\n",
              "       width=\"24px\">\n",
              "    <path d=\"M0 0h24v24H0V0z\" fill=\"none\"/>\n",
              "    <path d=\"M18.56 5.44l.94 2.06.94-2.06 2.06-.94-2.06-.94-.94-2.06-.94 2.06-2.06.94zm-11 1L8.5 8.5l.94-2.06 2.06-.94-2.06-.94L8.5 2.5l-.94 2.06-2.06.94zm10 10l.94 2.06.94-2.06 2.06-.94-2.06-.94-.94-2.06-.94 2.06-2.06.94z\"/><path d=\"M17.41 7.96l-1.37-1.37c-.4-.4-.92-.59-1.43-.59-.52 0-1.04.2-1.43.59L10.3 9.45l-7.72 7.72c-.78.78-.78 2.05 0 2.83L4 21.41c.39.39.9.59 1.41.59.51 0 1.02-.2 1.41-.59l7.78-7.78 2.81-2.81c.8-.78.8-2.07 0-2.86zM5.41 20L4 18.59l7.72-7.72 1.47 1.35L5.41 20z\"/>\n",
              "  </svg>\n",
              "      </button>\n",
              "      \n",
              "  <style>\n",
              "    .colab-df-container {\n",
              "      display:flex;\n",
              "      flex-wrap:wrap;\n",
              "      gap: 12px;\n",
              "    }\n",
              "\n",
              "    .colab-df-convert {\n",
              "      background-color: #E8F0FE;\n",
              "      border: none;\n",
              "      border-radius: 50%;\n",
              "      cursor: pointer;\n",
              "      display: none;\n",
              "      fill: #1967D2;\n",
              "      height: 32px;\n",
              "      padding: 0 0 0 0;\n",
              "      width: 32px;\n",
              "    }\n",
              "\n",
              "    .colab-df-convert:hover {\n",
              "      background-color: #E2EBFA;\n",
              "      box-shadow: 0px 1px 2px rgba(60, 64, 67, 0.3), 0px 1px 3px 1px rgba(60, 64, 67, 0.15);\n",
              "      fill: #174EA6;\n",
              "    }\n",
              "\n",
              "    [theme=dark] .colab-df-convert {\n",
              "      background-color: #3B4455;\n",
              "      fill: #D2E3FC;\n",
              "    }\n",
              "\n",
              "    [theme=dark] .colab-df-convert:hover {\n",
              "      background-color: #434B5C;\n",
              "      box-shadow: 0px 1px 3px 1px rgba(0, 0, 0, 0.15);\n",
              "      filter: drop-shadow(0px 1px 2px rgba(0, 0, 0, 0.3));\n",
              "      fill: #FFFFFF;\n",
              "    }\n",
              "  </style>\n",
              "\n",
              "      <script>\n",
              "        const buttonEl =\n",
              "          document.querySelector('#df-4e5ad4bf-fb8f-40d7-93cf-6af4a1da7cfa button.colab-df-convert');\n",
              "        buttonEl.style.display =\n",
              "          google.colab.kernel.accessAllowed ? 'block' : 'none';\n",
              "\n",
              "        async function convertToInteractive(key) {\n",
              "          const element = document.querySelector('#df-4e5ad4bf-fb8f-40d7-93cf-6af4a1da7cfa');\n",
              "          const dataTable =\n",
              "            await google.colab.kernel.invokeFunction('convertToInteractive',\n",
              "                                                     [key], {});\n",
              "          if (!dataTable) return;\n",
              "\n",
              "          const docLinkHtml = 'Like what you see? Visit the ' +\n",
              "            '<a target=\"_blank\" href=https://colab.research.google.com/notebooks/data_table.ipynb>data table notebook</a>'\n",
              "            + ' to learn more about interactive tables.';\n",
              "          element.innerHTML = '';\n",
              "          dataTable['output_type'] = 'display_data';\n",
              "          await google.colab.output.renderOutput(dataTable, element);\n",
              "          const docLink = document.createElement('div');\n",
              "          docLink.innerHTML = docLinkHtml;\n",
              "          element.appendChild(docLink);\n",
              "        }\n",
              "      </script>\n",
              "    </div>\n",
              "  </div>\n",
              "  "
            ]
          },
          "metadata": {},
          "execution_count": 17
        }
      ]
    },
    {
      "cell_type": "markdown",
      "source": [
        " <font color='blue'>**2b.Feature transformation**</font> .\n",
        " \n",
        "Used the timestamp feature to derive more columns like day, month and year.\n",
        "Added another hour column."
      ],
      "metadata": {
        "id": "Rm4iIYyPBivB"
      }
    },
    {
      "cell_type": "code",
      "source": [
        "data['Accident Date']=pd.to_datetime(data['Accident Date'])\n",
        "data['year'] = pd.DatetimeIndex(data['Accident Date']).year\n",
        "data['month'] = pd.DatetimeIndex(data['Accident Date']).month\n",
        "data['month'] = data['month'].apply(lambda x: calendar.month_abbr[x])\n",
        "data['day']=data['Accident Date'].dt.day_name()\n",
        "data['accident_time'] = pd.to_datetime(data['accident_time'], format='%I:%M:%S %p').dt.strftime('%H:%M:%S')\n",
        "data['Hour'] = data.apply(lambda x: str(x.accident_time).split(':')[0], axis=1)\n",
        "#data=data.drop(columns=['Accident Date'])\n",
        "data"
      ],
      "metadata": {
        "id": "lTCNnARN2IaC",
        "colab": {
          "base_uri": "https://localhost:8080/",
          "height": 641
        },
        "outputId": "1e63f25c-d776-438a-b14a-b52529f5cc99"
      },
      "execution_count": null,
      "outputs": [
        {
          "output_type": "execute_result",
          "data": {
            "text/plain": [
              "      Accident Date accident_time Road Surface  \\\n",
              "0        2009-01-01      00:55:00          Dry   \n",
              "1        2009-01-02      23:35:00          Dry   \n",
              "2        2009-01-02      16:45:00          Dry   \n",
              "3        2009-01-02      17:23:00          Dry   \n",
              "4        2009-01-02      13:50:00          Dry   \n",
              "...             ...           ...          ...   \n",
              "23633    2017-12-31      15:15:00         Snow   \n",
              "23634    2017-12-31      19:35:00     Wet/Damp   \n",
              "23635    2017-12-31      21:11:00     Wet/Damp   \n",
              "23636    2017-01-11      23:20:00     Wet/Damp   \n",
              "23637    2017-06-27      14:00:00     Wet/Damp   \n",
              "\n",
              "                           Lighting Conditions          Weather Conditions  \\\n",
              "0      Darkness: street lights present and lit     Fine without high winds   \n",
              "1      Darkness: street lights present and lit     Fine without high winds   \n",
              "2      Darkness: street lights present and lit     Fine without high winds   \n",
              "3      Darkness: street lights present and lit     Fine without high winds   \n",
              "4              Daylight: street lights present     Fine without high winds   \n",
              "...                                        ...                         ...   \n",
              "23633          Daylight: Street lights present  Snowing without high winds   \n",
              "23634  Darkness: Street lights present and lit  Raining without high winds   \n",
              "23635  Darkness: Street lights present and lit  Raining without high winds   \n",
              "23636  Darkness: Street lights present and lit     Fine without high winds   \n",
              "23637          Daylight: Street lights present  Raining without high winds   \n",
              "\n",
              "                     Casualty Class Casualty Severity  Gender  Age  year  \\\n",
              "0                        Pedestrian            Slight    Male   44  2009   \n",
              "1                            Driver           Serious  Female   23  2009   \n",
              "2                        Pedestrian            Slight  Female   12  2009   \n",
              "3                        Pedestrian            Slight    Male   15  2009   \n",
              "4                            Driver            Slight  Female   34  2009   \n",
              "...                             ...               ...     ...  ...   ...   \n",
              "23633  Vehicle or pillion passenger            Slight    Male   21  2017   \n",
              "23634                        Driver            Slight    Male   23  2017   \n",
              "23635                        Driver            Slight    Male   20  2017   \n",
              "23636                        Driver           Serious    Male   34  2017   \n",
              "23637                        Driver            Slight    Male   27  2017   \n",
              "\n",
              "      month        day Hour  \n",
              "0       Jan   Thursday   00  \n",
              "1       Jan     Friday   23  \n",
              "2       Jan     Friday   16  \n",
              "3       Jan     Friday   17  \n",
              "4       Jan     Friday   13  \n",
              "...     ...        ...  ...  \n",
              "23633   Dec     Sunday   15  \n",
              "23634   Dec     Sunday   19  \n",
              "23635   Dec     Sunday   21  \n",
              "23636   Jan  Wednesday   23  \n",
              "23637   Jun    Tuesday   14  \n",
              "\n",
              "[23638 rows x 13 columns]"
            ],
            "text/html": [
              "\n",
              "  <div id=\"df-776f7ffd-ca70-44fe-97dd-1229e7b66bd9\">\n",
              "    <div class=\"colab-df-container\">\n",
              "      <div>\n",
              "<style scoped>\n",
              "    .dataframe tbody tr th:only-of-type {\n",
              "        vertical-align: middle;\n",
              "    }\n",
              "\n",
              "    .dataframe tbody tr th {\n",
              "        vertical-align: top;\n",
              "    }\n",
              "\n",
              "    .dataframe thead th {\n",
              "        text-align: right;\n",
              "    }\n",
              "</style>\n",
              "<table border=\"1\" class=\"dataframe\">\n",
              "  <thead>\n",
              "    <tr style=\"text-align: right;\">\n",
              "      <th></th>\n",
              "      <th>Accident Date</th>\n",
              "      <th>accident_time</th>\n",
              "      <th>Road Surface</th>\n",
              "      <th>Lighting Conditions</th>\n",
              "      <th>Weather Conditions</th>\n",
              "      <th>Casualty Class</th>\n",
              "      <th>Casualty Severity</th>\n",
              "      <th>Gender</th>\n",
              "      <th>Age</th>\n",
              "      <th>year</th>\n",
              "      <th>month</th>\n",
              "      <th>day</th>\n",
              "      <th>Hour</th>\n",
              "    </tr>\n",
              "  </thead>\n",
              "  <tbody>\n",
              "    <tr>\n",
              "      <th>0</th>\n",
              "      <td>2009-01-01</td>\n",
              "      <td>00:55:00</td>\n",
              "      <td>Dry</td>\n",
              "      <td>Darkness: street lights present and lit</td>\n",
              "      <td>Fine without high winds</td>\n",
              "      <td>Pedestrian</td>\n",
              "      <td>Slight</td>\n",
              "      <td>Male</td>\n",
              "      <td>44</td>\n",
              "      <td>2009</td>\n",
              "      <td>Jan</td>\n",
              "      <td>Thursday</td>\n",
              "      <td>00</td>\n",
              "    </tr>\n",
              "    <tr>\n",
              "      <th>1</th>\n",
              "      <td>2009-01-02</td>\n",
              "      <td>23:35:00</td>\n",
              "      <td>Dry</td>\n",
              "      <td>Darkness: street lights present and lit</td>\n",
              "      <td>Fine without high winds</td>\n",
              "      <td>Driver</td>\n",
              "      <td>Serious</td>\n",
              "      <td>Female</td>\n",
              "      <td>23</td>\n",
              "      <td>2009</td>\n",
              "      <td>Jan</td>\n",
              "      <td>Friday</td>\n",
              "      <td>23</td>\n",
              "    </tr>\n",
              "    <tr>\n",
              "      <th>2</th>\n",
              "      <td>2009-01-02</td>\n",
              "      <td>16:45:00</td>\n",
              "      <td>Dry</td>\n",
              "      <td>Darkness: street lights present and lit</td>\n",
              "      <td>Fine without high winds</td>\n",
              "      <td>Pedestrian</td>\n",
              "      <td>Slight</td>\n",
              "      <td>Female</td>\n",
              "      <td>12</td>\n",
              "      <td>2009</td>\n",
              "      <td>Jan</td>\n",
              "      <td>Friday</td>\n",
              "      <td>16</td>\n",
              "    </tr>\n",
              "    <tr>\n",
              "      <th>3</th>\n",
              "      <td>2009-01-02</td>\n",
              "      <td>17:23:00</td>\n",
              "      <td>Dry</td>\n",
              "      <td>Darkness: street lights present and lit</td>\n",
              "      <td>Fine without high winds</td>\n",
              "      <td>Pedestrian</td>\n",
              "      <td>Slight</td>\n",
              "      <td>Male</td>\n",
              "      <td>15</td>\n",
              "      <td>2009</td>\n",
              "      <td>Jan</td>\n",
              "      <td>Friday</td>\n",
              "      <td>17</td>\n",
              "    </tr>\n",
              "    <tr>\n",
              "      <th>4</th>\n",
              "      <td>2009-01-02</td>\n",
              "      <td>13:50:00</td>\n",
              "      <td>Dry</td>\n",
              "      <td>Daylight: street lights present</td>\n",
              "      <td>Fine without high winds</td>\n",
              "      <td>Driver</td>\n",
              "      <td>Slight</td>\n",
              "      <td>Female</td>\n",
              "      <td>34</td>\n",
              "      <td>2009</td>\n",
              "      <td>Jan</td>\n",
              "      <td>Friday</td>\n",
              "      <td>13</td>\n",
              "    </tr>\n",
              "    <tr>\n",
              "      <th>...</th>\n",
              "      <td>...</td>\n",
              "      <td>...</td>\n",
              "      <td>...</td>\n",
              "      <td>...</td>\n",
              "      <td>...</td>\n",
              "      <td>...</td>\n",
              "      <td>...</td>\n",
              "      <td>...</td>\n",
              "      <td>...</td>\n",
              "      <td>...</td>\n",
              "      <td>...</td>\n",
              "      <td>...</td>\n",
              "      <td>...</td>\n",
              "    </tr>\n",
              "    <tr>\n",
              "      <th>23633</th>\n",
              "      <td>2017-12-31</td>\n",
              "      <td>15:15:00</td>\n",
              "      <td>Snow</td>\n",
              "      <td>Daylight: Street lights present</td>\n",
              "      <td>Snowing without high winds</td>\n",
              "      <td>Vehicle or pillion passenger</td>\n",
              "      <td>Slight</td>\n",
              "      <td>Male</td>\n",
              "      <td>21</td>\n",
              "      <td>2017</td>\n",
              "      <td>Dec</td>\n",
              "      <td>Sunday</td>\n",
              "      <td>15</td>\n",
              "    </tr>\n",
              "    <tr>\n",
              "      <th>23634</th>\n",
              "      <td>2017-12-31</td>\n",
              "      <td>19:35:00</td>\n",
              "      <td>Wet/Damp</td>\n",
              "      <td>Darkness: Street lights present and lit</td>\n",
              "      <td>Raining without high winds</td>\n",
              "      <td>Driver</td>\n",
              "      <td>Slight</td>\n",
              "      <td>Male</td>\n",
              "      <td>23</td>\n",
              "      <td>2017</td>\n",
              "      <td>Dec</td>\n",
              "      <td>Sunday</td>\n",
              "      <td>19</td>\n",
              "    </tr>\n",
              "    <tr>\n",
              "      <th>23635</th>\n",
              "      <td>2017-12-31</td>\n",
              "      <td>21:11:00</td>\n",
              "      <td>Wet/Damp</td>\n",
              "      <td>Darkness: Street lights present and lit</td>\n",
              "      <td>Raining without high winds</td>\n",
              "      <td>Driver</td>\n",
              "      <td>Slight</td>\n",
              "      <td>Male</td>\n",
              "      <td>20</td>\n",
              "      <td>2017</td>\n",
              "      <td>Dec</td>\n",
              "      <td>Sunday</td>\n",
              "      <td>21</td>\n",
              "    </tr>\n",
              "    <tr>\n",
              "      <th>23636</th>\n",
              "      <td>2017-01-11</td>\n",
              "      <td>23:20:00</td>\n",
              "      <td>Wet/Damp</td>\n",
              "      <td>Darkness: Street lights present and lit</td>\n",
              "      <td>Fine without high winds</td>\n",
              "      <td>Driver</td>\n",
              "      <td>Serious</td>\n",
              "      <td>Male</td>\n",
              "      <td>34</td>\n",
              "      <td>2017</td>\n",
              "      <td>Jan</td>\n",
              "      <td>Wednesday</td>\n",
              "      <td>23</td>\n",
              "    </tr>\n",
              "    <tr>\n",
              "      <th>23637</th>\n",
              "      <td>2017-06-27</td>\n",
              "      <td>14:00:00</td>\n",
              "      <td>Wet/Damp</td>\n",
              "      <td>Daylight: Street lights present</td>\n",
              "      <td>Raining without high winds</td>\n",
              "      <td>Driver</td>\n",
              "      <td>Slight</td>\n",
              "      <td>Male</td>\n",
              "      <td>27</td>\n",
              "      <td>2017</td>\n",
              "      <td>Jun</td>\n",
              "      <td>Tuesday</td>\n",
              "      <td>14</td>\n",
              "    </tr>\n",
              "  </tbody>\n",
              "</table>\n",
              "<p>23638 rows × 13 columns</p>\n",
              "</div>\n",
              "      <button class=\"colab-df-convert\" onclick=\"convertToInteractive('df-776f7ffd-ca70-44fe-97dd-1229e7b66bd9')\"\n",
              "              title=\"Convert this dataframe to an interactive table.\"\n",
              "              style=\"display:none;\">\n",
              "        \n",
              "  <svg xmlns=\"http://www.w3.org/2000/svg\" height=\"24px\"viewBox=\"0 0 24 24\"\n",
              "       width=\"24px\">\n",
              "    <path d=\"M0 0h24v24H0V0z\" fill=\"none\"/>\n",
              "    <path d=\"M18.56 5.44l.94 2.06.94-2.06 2.06-.94-2.06-.94-.94-2.06-.94 2.06-2.06.94zm-11 1L8.5 8.5l.94-2.06 2.06-.94-2.06-.94L8.5 2.5l-.94 2.06-2.06.94zm10 10l.94 2.06.94-2.06 2.06-.94-2.06-.94-.94-2.06-.94 2.06-2.06.94z\"/><path d=\"M17.41 7.96l-1.37-1.37c-.4-.4-.92-.59-1.43-.59-.52 0-1.04.2-1.43.59L10.3 9.45l-7.72 7.72c-.78.78-.78 2.05 0 2.83L4 21.41c.39.39.9.59 1.41.59.51 0 1.02-.2 1.41-.59l7.78-7.78 2.81-2.81c.8-.78.8-2.07 0-2.86zM5.41 20L4 18.59l7.72-7.72 1.47 1.35L5.41 20z\"/>\n",
              "  </svg>\n",
              "      </button>\n",
              "      \n",
              "  <style>\n",
              "    .colab-df-container {\n",
              "      display:flex;\n",
              "      flex-wrap:wrap;\n",
              "      gap: 12px;\n",
              "    }\n",
              "\n",
              "    .colab-df-convert {\n",
              "      background-color: #E8F0FE;\n",
              "      border: none;\n",
              "      border-radius: 50%;\n",
              "      cursor: pointer;\n",
              "      display: none;\n",
              "      fill: #1967D2;\n",
              "      height: 32px;\n",
              "      padding: 0 0 0 0;\n",
              "      width: 32px;\n",
              "    }\n",
              "\n",
              "    .colab-df-convert:hover {\n",
              "      background-color: #E2EBFA;\n",
              "      box-shadow: 0px 1px 2px rgba(60, 64, 67, 0.3), 0px 1px 3px 1px rgba(60, 64, 67, 0.15);\n",
              "      fill: #174EA6;\n",
              "    }\n",
              "\n",
              "    [theme=dark] .colab-df-convert {\n",
              "      background-color: #3B4455;\n",
              "      fill: #D2E3FC;\n",
              "    }\n",
              "\n",
              "    [theme=dark] .colab-df-convert:hover {\n",
              "      background-color: #434B5C;\n",
              "      box-shadow: 0px 1px 3px 1px rgba(0, 0, 0, 0.15);\n",
              "      filter: drop-shadow(0px 1px 2px rgba(0, 0, 0, 0.3));\n",
              "      fill: #FFFFFF;\n",
              "    }\n",
              "  </style>\n",
              "\n",
              "      <script>\n",
              "        const buttonEl =\n",
              "          document.querySelector('#df-776f7ffd-ca70-44fe-97dd-1229e7b66bd9 button.colab-df-convert');\n",
              "        buttonEl.style.display =\n",
              "          google.colab.kernel.accessAllowed ? 'block' : 'none';\n",
              "\n",
              "        async function convertToInteractive(key) {\n",
              "          const element = document.querySelector('#df-776f7ffd-ca70-44fe-97dd-1229e7b66bd9');\n",
              "          const dataTable =\n",
              "            await google.colab.kernel.invokeFunction('convertToInteractive',\n",
              "                                                     [key], {});\n",
              "          if (!dataTable) return;\n",
              "\n",
              "          const docLinkHtml = 'Like what you see? Visit the ' +\n",
              "            '<a target=\"_blank\" href=https://colab.research.google.com/notebooks/data_table.ipynb>data table notebook</a>'\n",
              "            + ' to learn more about interactive tables.';\n",
              "          element.innerHTML = '';\n",
              "          dataTable['output_type'] = 'display_data';\n",
              "          await google.colab.output.renderOutput(dataTable, element);\n",
              "          const docLink = document.createElement('div');\n",
              "          docLink.innerHTML = docLinkHtml;\n",
              "          element.appendChild(docLink);\n",
              "        }\n",
              "      </script>\n",
              "    </div>\n",
              "  </div>\n",
              "  "
            ]
          },
          "metadata": {},
          "execution_count": 18
        }
      ]
    },
    {
      "cell_type": "markdown",
      "source": [
        "## 3. <font color='blue'> **Data analysis**</font> "
      ],
      "metadata": {
        "id": "moYEU0cM6b8a"
      }
    },
    {
      "cell_type": "markdown",
      "source": [
        "\n",
        "## <font color='blue'>1. **When** **do** **accidents** **ussually** **happen**</font> ."
      ],
      "metadata": {
        "id": "KfUFpFwXJs8t"
      }
    },
    {
      "cell_type": "markdown",
      "source": [
        "### <font color='green'>1a.Accidents distribution per month</font> "
      ],
      "metadata": {
        "id": "kPHYd0HOKCzX"
      }
    },
    {
      "cell_type": "code",
      "source": [
        "#fig=plt.figure(figsize=(10,5))\n",
        "#ax1=plt.subplot(1,1,1)\n",
        "month_dict = {'Jan':1,'Feb':2,'Mar':3, 'Apr':4, 'May':5, 'Jun':6, 'Jul':7, 'Aug':8, 'Sep':9, 'Oct':10, 'Nov':11, 'Dec':12}\n",
        "\n",
        "accident_month=data.groupby(['month']).agg({'Casualty Severity':\"value_counts\"}).unstack(fill_value=0)\n",
        "accident_month.sort_values('month', key = lambda x : x.apply (lambda x : month_dict[x])).plot(kind='bar',figsize=(10,5), xlabel='months',ylabel='accident occurence',\n",
        "                                                                                              title= 'Accident trends per month')\n",
        "totalaccidents=data['month'].value_counts()\n",
        "month_names = calendar.month_abbr[1:]\n",
        "totalaccidents = totalaccidents.reindex(month_names, fill_value=True)\n",
        "totalaccidents.plot(color = 'b', linestyle = 'solid', marker = 'o', label = \"total\")\n",
        "plt.legend(['total','Fatal','Serious','Slight'],\n",
        "          loc='center left',bbox_to_anchor=(1,0.5))"
      ],
      "metadata": {
        "id": "t0hUPW1xGCwR",
        "colab": {
          "base_uri": "https://localhost:8080/",
          "height": 367
        },
        "outputId": "2ef07fd4-7a01-4fff-cbc1-8d2893559614"
      },
      "execution_count": null,
      "outputs": [
        {
          "output_type": "execute_result",
          "data": {
            "text/plain": [
              "<matplotlib.legend.Legend at 0x7f16ff075090>"
            ]
          },
          "metadata": {},
          "execution_count": 19
        },
        {
          "output_type": "display_data",
          "data": {
            "text/plain": [
              "<Figure size 720x360 with 1 Axes>"
            ],
            "image/png": "[encoded data removed]"
          },
          "metadata": {
            "needs_background": "light"
          }
        }
      ]
    },
    {
      "cell_type": "markdown",
      "source": [
        "The graph above shows the distribution and severity of accidents in different months from 2009-2017. We can see that slight accidents are the most accidents.Generaly february has the least accidents as it is around the winter season.There is a slight increase in March  due to the fact that winter is coming to an end and spring is approaching.We can see an increase in July  because of the summer season. One article highligted some driving risks to be aware of during the summer season, such as longer driving journey and distracted drivers due to the fact that schools are closed  and families are headed for the holiday.(https://www.ageas.co.uk/solved/your-car/beware-these-8-summer-driving-risks/ ) \n",
        "October and november accounts for the most accidents  due to the risk of 'dazzling sun', reduced day time, wet roads and leaves debris causing  slippery road conditions during the autumn season. A deacrease  is seen as we approach December the winter season.\n",
        "\n",
        "\n"
      ],
      "metadata": {
        "id": "IXGFJNbbBg8k"
      }
    },
    {
      "cell_type": "markdown",
      "source": [
        "### <font color='green'>1b.Accidents heat map according to day and hour\n",
        "</font> \n",
        "\n",
        "\n"
      ],
      "metadata": {
        "id": "Q-LStnyHT7eq"
      }
    },
    {
      "cell_type": "code",
      "source": [
        "#heatmap=data.day.groupby([data.Hour]).value_counts().unstack()\n",
        "#heatmap=data.groupby('Hour').day.value_counts().unstack()\n",
        "heatmap=data.groupby('day').Hour.value_counts().unstack()\n",
        "plt.figure(figsize=(16,8))\n",
        "day_of_week = ['Monday', 'Tuesday', 'Wednesday', 'Thursday', 'Friday', 'Saturday', 'Sunday']\n",
        "heatmap=heatmap.reindex(day_of_week)\n",
        "\n",
        "#plt.xlabel('Hour', size = 15)\n",
        "#plt.ylabel('day', size = 15)\n",
        "plt.title(' Accident Heat map by day and hour')\n",
        "heatmap \n",
        "           \n",
        "sns.heatmap(heatmap,cmap='RdBu',cbar_kws = ({\"orientation\": \"horizontal\"}),\n",
        "            linewidth=0.5,linecolor='black')\n"
      ],
      "metadata": {
        "id": "Nuio-wbYGCyM",
        "colab": {
          "base_uri": "https://localhost:8080/",
          "height": 495
        },
        "outputId": "688b51a4-89fd-4259-be10-dcc4d270e564"
      },
      "execution_count": null,
      "outputs": [
        {
          "output_type": "execute_result",
          "data": {
            "text/plain": [
              "<matplotlib.axes._subplots.AxesSubplot at 0x7f16ffc35550>"
            ]
          },
          "metadata": {},
          "execution_count": 20
        },
        {
          "output_type": "display_data",
          "data": {
            "text/plain": [
              "<Figure size 1152x576 with 2 Axes>"
            ],
            "image/png": "[encoded data removed]"
          },
          "metadata": {
            "needs_background": "light"
          }
        }
      ]
    },
    {
      "cell_type": "markdown",
      "source": [
        "From the heatmap above ,From Monday to Thursday between 7am and 8am and 3pm and 6pm which are  rush hours, there are many accidents occuring at that time as most people are heading to and from work or school. As even head of Motor at Admiral, Sabine Williams, said: \"*Rush hour means higher volumes of traffic and more stressed drivers on the road, and as our data clearly shows, these result in more accidents\".*\n",
        "on Friday the increase in accidents begin quite early that is at 3pm, mostly because people are speeding home from work getting ready for the weekend. \n",
        "Sunday is the safest day as most people are at home relaxing."
      ],
      "metadata": {
        "id": "ZC_RugHswqgZ"
      }
    },
    {
      "cell_type": "markdown",
      "source": [
        "### <font color='green'>1c. Accidents distribution over the last 9years.\n",
        "</font> \n"
      ],
      "metadata": {
        "id": "PGbaE4nwUajs"
      }
    },
    {
      "cell_type": "code",
      "source": [
        "data.rename(columns={'Casualty Severity':'Severity'},inplace=True)\n",
        "accidentyear=data.groupby('year').Severity.value_counts().unstack()\n",
        "dfp=accidentyear.div(accidentyear.sum(1), axis=0)\n",
        "p1 = dfp.plot(kind='bar', figsize=(20, 8), rot=0, ylabel='Percentage', title=\"Accident distribution from 2009-2017 in percentage\")\n",
        "\n",
        " \n",
        "for p in p1.patches:\n",
        "    width = p.get_width()\n",
        "    height = p.get_height()\n",
        "    x, y = p.get_xy() \n",
        "    p1.annotate(f'{height:.2%}', (x + width/2, y + height*1.02), ha='center')\n",
        "                   \n",
        "\n",
        "plt.xlabel('years')\n",
        "plt.ylabel('accident severity count')\n",
        "plt.legend(['Fatal','Serious','Slight'],loc='center left',bbox_to_anchor=(1,0.5))\n",
        "\n"
      ],
      "metadata": {
        "id": "wW-E4liaGC2G",
        "colab": {
          "base_uri": "https://localhost:8080/",
          "height": 530
        },
        "outputId": "35f945ba-31f7-415e-d7bb-bf748522f96f"
      },
      "execution_count": null,
      "outputs": [
        {
          "output_type": "execute_result",
          "data": {
            "text/plain": [
              "<matplotlib.legend.Legend at 0x7f16ff2f2b90>"
            ]
          },
          "metadata": {},
          "execution_count": 21
        },
        {
          "output_type": "display_data",
          "data": {
            "text/plain": [
              "<Figure size 1440x576 with 1 Axes>"
            ],
            "image/png": "[encoded data removed]"
          },
          "metadata": {
            "needs_background": "light"
          }
        }
      ]
    },
    {
      "cell_type": "markdown",
      "source": [
        "This graph analyzes accident occurences for the past 9years. In general we can see that slight accidents is the most frequent type of accidents. 2009 had the most accidents then a slight decrease in the subsequent year which might indicate some little imporvement. Serious injuries tend to increase subsequently from 2009-2017."
      ],
      "metadata": {
        "id": "KgFyEX0-S7vh"
      }
    },
    {
      "cell_type": "markdown",
      "source": [],
      "metadata": {
        "id": "afx5W0FRWA5y"
      }
    },
    {
      "cell_type": "markdown",
      "source": [
        "\n",
        "## <font color='blue'>**2. Under what conitions do most accidents occur**.</font> ."
      ],
      "metadata": {
        "id": "iDP5NnwhWTdD"
      }
    },
    {
      "cell_type": "markdown",
      "source": [
        "In this datasets we have many conditions that have caused road accidents like the weather, roadsurface,lighting conditions...."
      ],
      "metadata": {
        "id": "Z7ugLOq4YNms"
      }
    },
    {
      "cell_type": "code",
      "source": [
        "\n",
        "light  = data['Lighting Conditions'].value_counts().plot(kind='bar',\n",
        "                                                        title='Lighting conditions with the most accidents',\n",
        "                                                        ylabel='Number of Occurrences',\n",
        "                                                        xlabel='lighting conditions')\n",
        "plt.show()"
      ],
      "metadata": {
        "id": "AGoWy_LBGDBx",
        "colab": {
          "base_uri": "https://localhost:8080/",
          "height": 510
        },
        "outputId": "782f4013-3fc1-43d8-e691-54b141c82344"
      },
      "execution_count": null,
      "outputs": [
        {
          "output_type": "display_data",
          "data": {
            "text/plain": [
              "<Figure size 432x288 with 1 Axes>"
            ],
            "image/png": "[encoded data removed]"
          },
          "metadata": {
            "needs_background": "light"
          }
        }
      ]
    },
    {
      "cell_type": "code",
      "source": [
        "surface  = data['Road Surface'].value_counts().plot(kind='bar',\n",
        "                                                        title='Road Surfaces with most accidents',\n",
        "                                                        ylabel='Number of Occurrences',\n",
        "                                                        xlabel='Road Surfaces')\n",
        "\n",
        "plt.show()"
      ],
      "metadata": {
        "id": "e5_Ecd4SGDDo",
        "colab": {
          "base_uri": "https://localhost:8080/",
          "height": 470
        },
        "outputId": "b5ba2222-1c6a-4304-c9d3-d1cc5f4be7fc"
      },
      "execution_count": null,
      "outputs": [
        {
          "output_type": "display_data",
          "data": {
            "text/plain": [
              "<Figure size 432x288 with 1 Axes>"
            ],
            "image/png": "[encoded data removed]"
          },
          "metadata": {
            "needs_background": "light"
          }
        }
      ]
    },
    {
      "cell_type": "code",
      "source": [
        "weathercondition  = data['Weather Conditions'].value_counts().plot(kind='bar',\n",
        "                                                        title='weather conditions with the most accidents',\n",
        "                                                        ylabel='Number of Occurrences',\n",
        "                                                        xlabel='weather conditions')\n"
      ],
      "metadata": {
        "id": "pdS64z7HGDH_",
        "colab": {
          "base_uri": "https://localhost:8080/",
          "height": 457
        },
        "outputId": "40ab615f-829a-49e1-9a66-d628b5c6d67e"
      },
      "execution_count": null,
      "outputs": [
        {
          "output_type": "display_data",
          "data": {
            "text/plain": [
              "<Figure size 432x288 with 1 Axes>"
            ],
            "image/png": "[encoded data removed]"
          },
          "metadata": {
            "needs_background": "light"
          }
        }
      ]
    },
    {
      "cell_type": "markdown",
      "source": [
        "From the three graphs above we can see that the results are not surprising. Most accidents occur when the road surface is dry, lighting conditions are good i.e daylight and when the weather conditions are fine. "
      ],
      "metadata": {
        "id": "AIfj9NjkyYPP"
      }
    },
    {
      "cell_type": "markdown",
      "source": [
        "#<font color='blue'> **3. What is the Characteristics of the Casualties involved in accidents**.</font> \n",
        "To be able to conduct road safety campains it is important to know our target audience. We are going to look at the most affected or involved people in accidents, their age and the gender of the Casualties."
      ],
      "metadata": {
        "id": "Y-cGgBal1W3u"
      }
    },
    {
      "cell_type": "markdown",
      "source": [
        " \n"
      ],
      "metadata": {
        "id": "vkHFI3fG2C4-"
      }
    },
    {
      "cell_type": "code",
      "source": [],
      "metadata": {
        "id": "mvN6-N0KtvEp"
      },
      "execution_count": null,
      "outputs": []
    },
    {
      "cell_type": "markdown",
      "source": [
        "## <font color='green'>3a.Class of Cassualties.</font> \n",
        "<font color='green'>i.Who are most people involved in accidents.</font> "
      ],
      "metadata": {
        "id": "G082qeIG1fNV"
      }
    },
    {
      "cell_type": "code",
      "source": [
        "classofcasualties=data[\"Casualty Class\"].value_counts()\n",
        "classofcasualties.plot(kind=\"pie\",autopct='%1.0f%%')"
      ],
      "metadata": {
        "colab": {
          "base_uri": "https://localhost:8080/",
          "height": 265
        },
        "id": "U_3yfCna1nHi",
        "outputId": "565bcd0a-169e-4940-976a-4fc62dbf11f2"
      },
      "execution_count": null,
      "outputs": [
        {
          "output_type": "execute_result",
          "data": {
            "text/plain": [
              "<matplotlib.axes._subplots.AxesSubplot at 0x7f16ff26c990>"
            ]
          },
          "metadata": {},
          "execution_count": 23
        },
        {
          "output_type": "display_data",
          "data": {
            "text/plain": [
              "<Figure size 432x288 with 1 Axes>"
            ],
            "image/png": "[encoded data removed]"
          },
          "metadata": {}
        }
      ]
    },
    {
      "cell_type": "markdown",
      "source": [
        "The piechart above tells us about the class of people in accidents. From that we can see that drivers are the most impacted or involved people during accidents."
      ],
      "metadata": {
        "id": "wCR03HWrfbDC"
      }
    },
    {
      "cell_type": "markdown",
      "source": [
        "## <font color='green'>3b.What  age are most people involved in accidents.</font> \n",
        "### 1.add an age-group column."
      ],
      "metadata": {
        "id": "H_-K_x_32CKS"
      }
    },
    {
      "cell_type": "code",
      "source": [
        "data['Age Group'] = pd.cut(data['Age'], \n",
        "   [0, 15,20,25,35,40,45,60 ,65, 100],\n",
        "    labels=['0-15 ', '15-20 ', '20-25','25-30','30-35','35-40','40-45','45-60','65+ ']\n",
        ")\n",
        "data.head()"
      ],
      "metadata": {
        "id": "VjuCrN1b2Ix9",
        "colab": {
          "base_uri": "https://localhost:8080/",
          "height": 206
        },
        "outputId": "84dde0f6-7de0-40c3-90c5-dd11c1cfe8ec"
      },
      "execution_count": null,
      "outputs": [
        {
          "output_type": "execute_result",
          "data": {
            "text/plain": [
              "  Accident Date accident_time Road Surface  \\\n",
              "0    2009-01-01      00:55:00          Dry   \n",
              "1    2009-01-02      23:35:00          Dry   \n",
              "2    2009-01-02      16:45:00          Dry   \n",
              "3    2009-01-02      17:23:00          Dry   \n",
              "4    2009-01-02      13:50:00          Dry   \n",
              "\n",
              "                       Lighting Conditions       Weather Conditions  \\\n",
              "0  Darkness: street lights present and lit  Fine without high winds   \n",
              "1  Darkness: street lights present and lit  Fine without high winds   \n",
              "2  Darkness: street lights present and lit  Fine without high winds   \n",
              "3  Darkness: street lights present and lit  Fine without high winds   \n",
              "4          Daylight: street lights present  Fine without high winds   \n",
              "\n",
              "  Casualty Class Severity  Gender  Age  year month       day Hour Age Group  \n",
              "0     Pedestrian   Slight    Male   44  2009   Jan  Thursday   00     35-40  \n",
              "1         Driver  Serious  Female   23  2009   Jan    Friday   23     20-25  \n",
              "2     Pedestrian   Slight  Female   12  2009   Jan    Friday   16     0-15   \n",
              "3     Pedestrian   Slight    Male   15  2009   Jan    Friday   17     0-15   \n",
              "4         Driver   Slight  Female   34  2009   Jan    Friday   13     25-30  "
            ],
            "text/html": [
              "\n",
              "  <div id=\"df-66b5ec69-d8ac-4390-8995-be26dd1923d7\">\n",
              "    <div class=\"colab-df-container\">\n",
              "      <div>\n",
              "<style scoped>\n",
              "    .dataframe tbody tr th:only-of-type {\n",
              "        vertical-align: middle;\n",
              "    }\n",
              "\n",
              "    .dataframe tbody tr th {\n",
              "        vertical-align: top;\n",
              "    }\n",
              "\n",
              "    .dataframe thead th {\n",
              "        text-align: right;\n",
              "    }\n",
              "</style>\n",
              "<table border=\"1\" class=\"dataframe\">\n",
              "  <thead>\n",
              "    <tr style=\"text-align: right;\">\n",
              "      <th></th>\n",
              "      <th>Accident Date</th>\n",
              "      <th>accident_time</th>\n",
              "      <th>Road Surface</th>\n",
              "      <th>Lighting Conditions</th>\n",
              "      <th>Weather Conditions</th>\n",
              "      <th>Casualty Class</th>\n",
              "      <th>Severity</th>\n",
              "      <th>Gender</th>\n",
              "      <th>Age</th>\n",
              "      <th>year</th>\n",
              "      <th>month</th>\n",
              "      <th>day</th>\n",
              "      <th>Hour</th>\n",
              "      <th>Age Group</th>\n",
              "    </tr>\n",
              "  </thead>\n",
              "  <tbody>\n",
              "    <tr>\n",
              "      <th>0</th>\n",
              "      <td>2009-01-01</td>\n",
              "      <td>00:55:00</td>\n",
              "      <td>Dry</td>\n",
              "      <td>Darkness: street lights present and lit</td>\n",
              "      <td>Fine without high winds</td>\n",
              "      <td>Pedestrian</td>\n",
              "      <td>Slight</td>\n",
              "      <td>Male</td>\n",
              "      <td>44</td>\n",
              "      <td>2009</td>\n",
              "      <td>Jan</td>\n",
              "      <td>Thursday</td>\n",
              "      <td>00</td>\n",
              "      <td>35-40</td>\n",
              "    </tr>\n",
              "    <tr>\n",
              "      <th>1</th>\n",
              "      <td>2009-01-02</td>\n",
              "      <td>23:35:00</td>\n",
              "      <td>Dry</td>\n",
              "      <td>Darkness: street lights present and lit</td>\n",
              "      <td>Fine without high winds</td>\n",
              "      <td>Driver</td>\n",
              "      <td>Serious</td>\n",
              "      <td>Female</td>\n",
              "      <td>23</td>\n",
              "      <td>2009</td>\n",
              "      <td>Jan</td>\n",
              "      <td>Friday</td>\n",
              "      <td>23</td>\n",
              "      <td>20-25</td>\n",
              "    </tr>\n",
              "    <tr>\n",
              "      <th>2</th>\n",
              "      <td>2009-01-02</td>\n",
              "      <td>16:45:00</td>\n",
              "      <td>Dry</td>\n",
              "      <td>Darkness: street lights present and lit</td>\n",
              "      <td>Fine without high winds</td>\n",
              "      <td>Pedestrian</td>\n",
              "      <td>Slight</td>\n",
              "      <td>Female</td>\n",
              "      <td>12</td>\n",
              "      <td>2009</td>\n",
              "      <td>Jan</td>\n",
              "      <td>Friday</td>\n",
              "      <td>16</td>\n",
              "      <td>0-15</td>\n",
              "    </tr>\n",
              "    <tr>\n",
              "      <th>3</th>\n",
              "      <td>2009-01-02</td>\n",
              "      <td>17:23:00</td>\n",
              "      <td>Dry</td>\n",
              "      <td>Darkness: street lights present and lit</td>\n",
              "      <td>Fine without high winds</td>\n",
              "      <td>Pedestrian</td>\n",
              "      <td>Slight</td>\n",
              "      <td>Male</td>\n",
              "      <td>15</td>\n",
              "      <td>2009</td>\n",
              "      <td>Jan</td>\n",
              "      <td>Friday</td>\n",
              "      <td>17</td>\n",
              "      <td>0-15</td>\n",
              "    </tr>\n",
              "    <tr>\n",
              "      <th>4</th>\n",
              "      <td>2009-01-02</td>\n",
              "      <td>13:50:00</td>\n",
              "      <td>Dry</td>\n",
              "      <td>Daylight: street lights present</td>\n",
              "      <td>Fine without high winds</td>\n",
              "      <td>Driver</td>\n",
              "      <td>Slight</td>\n",
              "      <td>Female</td>\n",
              "      <td>34</td>\n",
              "      <td>2009</td>\n",
              "      <td>Jan</td>\n",
              "      <td>Friday</td>\n",
              "      <td>13</td>\n",
              "      <td>25-30</td>\n",
              "    </tr>\n",
              "  </tbody>\n",
              "</table>\n",
              "</div>\n",
              "      <button class=\"colab-df-convert\" onclick=\"convertToInteractive('df-66b5ec69-d8ac-4390-8995-be26dd1923d7')\"\n",
              "              title=\"Convert this dataframe to an interactive table.\"\n",
              "              style=\"display:none;\">\n",
              "        \n",
              "  <svg xmlns=\"http://www.w3.org/2000/svg\" height=\"24px\"viewBox=\"0 0 24 24\"\n",
              "       width=\"24px\">\n",
              "    <path d=\"M0 0h24v24H0V0z\" fill=\"none\"/>\n",
              "    <path d=\"M18.56 5.44l.94 2.06.94-2.06 2.06-.94-2.06-.94-.94-2.06-.94 2.06-2.06.94zm-11 1L8.5 8.5l.94-2.06 2.06-.94-2.06-.94L8.5 2.5l-.94 2.06-2.06.94zm10 10l.94 2.06.94-2.06 2.06-.94-2.06-.94-.94-2.06-.94 2.06-2.06.94z\"/><path d=\"M17.41 7.96l-1.37-1.37c-.4-.4-.92-.59-1.43-.59-.52 0-1.04.2-1.43.59L10.3 9.45l-7.72 7.72c-.78.78-.78 2.05 0 2.83L4 21.41c.39.39.9.59 1.41.59.51 0 1.02-.2 1.41-.59l7.78-7.78 2.81-2.81c.8-.78.8-2.07 0-2.86zM5.41 20L4 18.59l7.72-7.72 1.47 1.35L5.41 20z\"/>\n",
              "  </svg>\n",
              "      </button>\n",
              "      \n",
              "  <style>\n",
              "    .colab-df-container {\n",
              "      display:flex;\n",
              "      flex-wrap:wrap;\n",
              "      gap: 12px;\n",
              "    }\n",
              "\n",
              "    .colab-df-convert {\n",
              "      background-color: #E8F0FE;\n",
              "      border: none;\n",
              "      border-radius: 50%;\n",
              "      cursor: pointer;\n",
              "      display: none;\n",
              "      fill: #1967D2;\n",
              "      height: 32px;\n",
              "      padding: 0 0 0 0;\n",
              "      width: 32px;\n",
              "    }\n",
              "\n",
              "    .colab-df-convert:hover {\n",
              "      background-color: #E2EBFA;\n",
              "      box-shadow: 0px 1px 2px rgba(60, 64, 67, 0.3), 0px 1px 3px 1px rgba(60, 64, 67, 0.15);\n",
              "      fill: #174EA6;\n",
              "    }\n",
              "\n",
              "    [theme=dark] .colab-df-convert {\n",
              "      background-color: #3B4455;\n",
              "      fill: #D2E3FC;\n",
              "    }\n",
              "\n",
              "    [theme=dark] .colab-df-convert:hover {\n",
              "      background-color: #434B5C;\n",
              "      box-shadow: 0px 1px 3px 1px rgba(0, 0, 0, 0.15);\n",
              "      filter: drop-shadow(0px 1px 2px rgba(0, 0, 0, 0.3));\n",
              "      fill: #FFFFFF;\n",
              "    }\n",
              "  </style>\n",
              "\n",
              "      <script>\n",
              "        const buttonEl =\n",
              "          document.querySelector('#df-66b5ec69-d8ac-4390-8995-be26dd1923d7 button.colab-df-convert');\n",
              "        buttonEl.style.display =\n",
              "          google.colab.kernel.accessAllowed ? 'block' : 'none';\n",
              "\n",
              "        async function convertToInteractive(key) {\n",
              "          const element = document.querySelector('#df-66b5ec69-d8ac-4390-8995-be26dd1923d7');\n",
              "          const dataTable =\n",
              "            await google.colab.kernel.invokeFunction('convertToInteractive',\n",
              "                                                     [key], {});\n",
              "          if (!dataTable) return;\n",
              "\n",
              "          const docLinkHtml = 'Like what you see? Visit the ' +\n",
              "            '<a target=\"_blank\" href=https://colab.research.google.com/notebooks/data_table.ipynb>data table notebook</a>'\n",
              "            + ' to learn more about interactive tables.';\n",
              "          element.innerHTML = '';\n",
              "          dataTable['output_type'] = 'display_data';\n",
              "          await google.colab.output.renderOutput(dataTable, element);\n",
              "          const docLink = document.createElement('div');\n",
              "          docLink.innerHTML = docLinkHtml;\n",
              "          element.appendChild(docLink);\n",
              "        }\n",
              "      </script>\n",
              "    </div>\n",
              "  </div>\n",
              "  "
            ]
          },
          "metadata": {},
          "execution_count": 24
        }
      ]
    },
    {
      "cell_type": "code",
      "source": [
        "agegroup=['0-15 ', '15-20 ', '20-25','25-30','30-35','35-40','40-45','45-60','65+ ']\n",
        "age = data['Age Group'].value_counts().sort_index()\n",
        "age.plot(kind='bar',x='Age Group',\n",
        "                     title='Age group of Casualty',\n",
        "                     ylabel='Number of Occurrences',\n",
        "                      xlabel='Age group'\n",
        "                                            \n",
        "                                                    \n",
        ")\n",
        "plt.show()"
      ],
      "metadata": {
        "id": "if1ePsnRtvMb",
        "colab": {
          "base_uri": "https://localhost:8080/",
          "height": 317
        },
        "outputId": "2b35c7d8-3983-410f-9e11-37530be9bb01"
      },
      "execution_count": null,
      "outputs": [
        {
          "output_type": "display_data",
          "data": {
            "text/plain": [
              "<Figure size 432x288 with 1 Axes>"
            ],
            "image/png": "[encoded data removed]"
          },
          "metadata": {
            "needs_background": "light"
          }
        }
      ]
    },
    {
      "cell_type": "markdown",
      "source": [
        "From the graph above we can see that most people between the age of 25-30 are involved in accidents. There is a slight increase between the ages of 40-45. In the next graph we look at the casualty class(passengers, drivers .) and their ages to know who are involved or cause most accidents. There is a high number if children between the ages of 0-15 years affected by the road accidents."
      ],
      "metadata": {
        "id": "iYK_319wtiOz"
      }
    },
    {
      "cell_type": "markdown",
      "source": [
        "\n"
      ],
      "metadata": {
        "id": "SamNF2WmZiJ9"
      }
    },
    {
      "cell_type": "markdown",
      "source": [],
      "metadata": {
        "id": "u3lTLlsbZ6G0"
      }
    },
    {
      "cell_type": "markdown",
      "source": [
        "\n",
        "## <font color='green'> ii. What is the age distribution of the Casualties.</font> "
      ],
      "metadata": {
        "id": "YEB6L4rsGblU"
      }
    },
    {
      "cell_type": "code",
      "source": [
        "age=data.groupby(['Age Group']).agg({'Casualty Class': \"value_counts\"}).unstack(fill_value=0).plot(kind='bar',figsize=(10,5))\n",
        "plt.legend(loc='center left', bbox_to_anchor=(1, 0.5))\n",
        "plt.legend(['Driver', 'Passenger', 'Pedestrian','others'],\n",
        "           loc='center left', bbox_to_anchor=(1, 0.5))\n",
        "plt.title('Age distribution of Casualties')\n",
        "plt.ylabel('accident occurence')"
      ],
      "metadata": {
        "id": "kTlr-imulvC9",
        "colab": {
          "base_uri": "https://localhost:8080/",
          "height": 389
        },
        "outputId": "256069d0-b874-4f1b-b81c-fcc0cdc5702a"
      },
      "execution_count": null,
      "outputs": [
        {
          "output_type": "execute_result",
          "data": {
            "text/plain": [
              "Text(0, 0.5, 'accident occurence')"
            ]
          },
          "metadata": {},
          "execution_count": 26
        },
        {
          "output_type": "display_data",
          "data": {
            "text/plain": [
              "<Figure size 720x360 with 1 Axes>"
            ],
            "image/png": "[encoded data removed]"
          },
          "metadata": {
            "needs_background": "light"
          }
        }
      ]
    },
    {
      "cell_type": "markdown",
      "source": [
        "From the pie chart above we saw that drivers are the most impacted people. Drivers between the age of 20-30 years are most involved in accidents and also strange occurences between the ages of 40-45. To be able to offer and target road safety effectively this age groups are the ones to be targeted. Children(pedestrians) also between the ages of 0-15  are impacted by accidents. "
      ],
      "metadata": {
        "id": "WAlQqnb8JM4C"
      }
    },
    {
      "cell_type": "markdown",
      "source": [
        "## <font color='green'>3c. Age and gender of drivers.</font> "
      ],
      "metadata": {
        "id": "bKg72i5EMxY3"
      }
    },
    {
      "cell_type": "code",
      "source": [
        "agzz=data[data['Casualty Class']== 'Driver']\n",
        "agzs=agzz[['Age Group','Gender']].value_counts().unstack(fill_value=False)\n",
        "\n",
        "sns.set_style('dark')\n",
        "agzs.plot(kind='bar',\n",
        "          ylabel='Count',\n",
        "          title='Age and gender distribution of drivers involved in Accidents',\n",
        "          figsize=(10,5))\n",
        "\n",
        "plt.legend(loc='center left',bbox_to_anchor=(1,0.5))\n"
      ],
      "metadata": {
        "colab": {
          "base_uri": "https://localhost:8080/",
          "height": 389
        },
        "id": "87Bb2h0JrP0o",
        "outputId": "216a6ac1-a982-4544-d382-b2615442d9d7"
      },
      "execution_count": null,
      "outputs": [
        {
          "output_type": "execute_result",
          "data": {
            "text/plain": [
              "<matplotlib.legend.Legend at 0x7f16fc0ec190>"
            ]
          },
          "metadata": {},
          "execution_count": 27
        },
        {
          "output_type": "display_data",
          "data": {
            "text/plain": [
              "<Figure size 720x360 with 1 Axes>"
            ],
            "image/png": "[encoded data removed]"
          },
          "metadata": {}
        }
      ]
    },
    {
      "cell_type": "markdown",
      "source": [
        "The graph above shows the age and gender distribution of drivers involved in accidents. Male drivers around the age of 20-30 are most involved in accidents. There is a slight increase  in male drivers in the age 40-45 who are also involved in accidents. The number of female drivers is not that high but there is an increase in occurence for those in 25-30years of age compared to the other ages."
      ],
      "metadata": {
        "id": "zP70miHn6O1e"
      }
    },
    {
      "cell_type": "markdown",
      "source": [
        "**CONCLUSION**"
      ],
      "metadata": {
        "id": "nzDyu3q38pVH"
      }
    },
    {
      "cell_type": "code",
      "source": [],
      "metadata": {
        "id": "alkDtkUpOkvI"
      },
      "execution_count": null,
      "outputs": []
    },
    {
      "cell_type": "markdown",
      "source": [
        "## CONCLUSION"
      ],
      "metadata": {
        "id": "WjN8Y1FkAYQx"
      }
    },
    {
      "cell_type": "markdown",
      "source": [
        "The project analyzed various parameters on accident occurences.We can summarise our findings as follows;\n",
        "\n",
        "1.Accidents are caused by common factors known to most of us: some of these are accidents tend to occur when the road surface is dry, weather is fine and lighting is great. people lower their guard when the conditions are favourable and in turn cause or get involved in accidents.\n",
        "\n",
        "2.The male drivers between the age 0f 20-30 years are responsible for a great percentage of accidents caused.\n",
        "\n",
        "3.Children(pedestrians) between the age of 0-15 are greatly affected by this accidents.\n",
        "\n",
        "4.Acidents also tend to occur  during rush hours 6am-9am and 3pm and 6pm as people are heading to and from work or school. On Fridays too in the afternoon as people are rushing to go home or enjoy themselves as the weekend approaches."
      ],
      "metadata": {
        "id": "yecViiOUD-Eo"
      }
    },
    {
      "cell_type": "markdown",
      "source": [
        "## **Recommendation**\n",
        "\n",
        "1.Have more police during rush hours and  Friday eveneing to control traffic.\n",
        "\n",
        "2.Offer a Pedestrians guide for children to assist them in crossing the roads.\n",
        "\n",
        "3. Apart from taking fines from arrested drivers, make refresher classes mandatory for them"
      ],
      "metadata": {
        "id": "rRFBkbTtCqGB"
      }
    },
    {
      "cell_type": "markdown",
      "source": [
        "## **Further** **Studies**\n",
        "1.Get more data to show the condition of drivers when they are driving that led to the acident and get to understand why men of a certain age are involved in alot of accidents."
      ],
      "metadata": {
        "id": "mbGbDNtfCyBF"
      }
    },
    {
      "cell_type": "code",
      "source": [
        "T"
      ],
      "metadata": {
        "id": "IbZoa4iImSVC"
      },
      "execution_count": null,
      "outputs": []
    },
    {
      "cell_type": "markdown",
      "source": [],
      "metadata": {
        "id": "wWlMddG-AfJX"
      }
    },
    {
      "cell_type": "code",
      "source": [],
      "metadata": {
        "id": "Evrtpj2F5iSh"
      },
      "execution_count": null,
      "outputs": []
    }
  ]
}